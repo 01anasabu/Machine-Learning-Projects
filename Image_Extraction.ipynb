{
  "nbformat": 4,
  "nbformat_minor": 0,
  "metadata": {
    "colab": {
      "provenance": [],
      "mount_file_id": "1dQDtRW5XoeSC_u6ae2_oUuuj8QkjuBiv",
      "authorship_tag": "ABX9TyPmtcrm/MLuE/0WpTL6ATdS",
      "include_colab_link": true
    },
    "kernelspec": {
      "name": "python3",
      "display_name": "Python 3"
    },
    "language_info": {
      "name": "python"
    }
  },
  "cells": [
    {
      "cell_type": "markdown",
      "metadata": {
        "id": "view-in-github",
        "colab_type": "text"
      },
      "source": [
        "<a href=\"https://colab.research.google.com/github/01anasabu/Machine-Learning-Projects/blob/main/Image_Extraction.ipynb\" target=\"_parent\"><img src=\"https://colab.research.google.com/assets/colab-badge.svg\" alt=\"Open In Colab\"/></a>"
      ]
    },
    {
      "cell_type": "markdown",
      "source": [
        "## Assignment 01\n",
        "\n",
        "### Lab Assignment on Materials Data Quotation\n",
        "\n",
        "\n",
        "> Submitted By- \\\n",
        "> Abu Anas (20120005)\\\n",
        "> Subject- Material Data Science Lab\n"
      ],
      "metadata": {
        "id": "xBCok_Goq0Tl"
      }
    },
    {
      "cell_type": "markdown",
      "source": [
        "### Installing Python Packages"
      ],
      "metadata": {
        "id": "5ORz8MDjjIlG"
      }
    },
    {
      "cell_type": "code",
      "execution_count": null,
      "metadata": {
        "id": "Z6CdiZ1RHEZ8"
      },
      "outputs": [],
      "source": [
        "!pip install fitz\n",
        "!pip install PyMuPDF\n",
        "!pip install PyPDF2"
      ]
    },
    {
      "cell_type": "markdown",
      "source": [
        "*The !pip install command is used to install Python packages from the Python Package Index (PyPI). When executed in the command-line interface (or in a Jupyter Notebook cell with ! at the beginning), it instructs the Python package manager pip to download and install the specified packages from PyPI.*\n",
        "1. **!pip install fitz**: *This command installs the Python package fitz. The\n",
        "package fitz is the PyMuPDF package, which is used for working with PDF documents in Python. It allows you to read, write, and modify PDF files, extract text and images, and perform various operations on PDFs.*\n",
        "2. **!pip install PyMuPDF**: *This command installs the Python package PyMuPDF, which is the same package mentioned in the previous line. PyMuPDF is a library for working with PDF documents, providing functionalities like text extraction, image extraction, document manipulation, etc.*\n",
        "3. **!pip install PyPDF2**: *This command installs the Python package PyPDF2. PyPDF2 is another popular library for working with PDF files in Python. It allows you to perform tasks like merging PDFs, splitting PDFs, adding watermarks, extracting text, and more.*"
      ],
      "metadata": {
        "id": "qG83E6qKiER6"
      }
    },
    {
      "cell_type": "markdown",
      "source": [
        "### Import Libraries"
      ],
      "metadata": {
        "id": "j8-tCrTohxa9"
      }
    },
    {
      "cell_type": "code",
      "source": [
        "import os\n",
        "import io\n",
        "import fitz\n",
        "from PIL import Image\n",
        "import pandas as pd\n",
        "import shutil"
      ],
      "metadata": {
        "id": "rR7U8AOAI9po"
      },
      "execution_count": 2,
      "outputs": []
    },
    {
      "cell_type": "markdown",
      "source": [
        "1. **import os**: *This line imports the Python os module, which provides a way to interact with the operating system. It allows you to perform various operations related to file and directory management, such as creating, deleting, or renaming files and directories.*\n",
        "2. **import io**: *This line imports the Python io module, which provides core tools for working with streams (input/output operations). It is often used when dealing with binary data or when converting between different data formats.*\n",
        "3. **import fitz**: *This line imports the fitz module, which is the PyMuPDF library for working with PDF documents in Python. It provides functionalities to read, write, and manipulate PDF files, as well as extracting text and images from PDFs.*\n",
        "4. **from PIL import Image**: *This line imports the Image class from the Python Imaging Library (PIL). The PIL library is used for working with images in various formats and performing image-related tasks like opening, saving, resizing, and manipulating images.*\n",
        "5. **import pandas as pd**: *This line imports the pandas library and gives it the alias pd. Pandas is a powerful data manipulation library in Python, widely used for data analysis and manipulation. It provides data structures like DataFrames, which allow you to work with structured data efficiently.*\n",
        "6. **import shutil**: *This line imports the shutil module, which is used for high-level file operations. It provides functions to copy, move, and delete files and directories.*"
      ],
      "metadata": {
        "id": "MN7RQ4nfjag1"
      }
    },
    {
      "cell_type": "code",
      "source": [
        "from google.colab import drive\n",
        "drive.mount('/content/drive')"
      ],
      "metadata": {
        "colab": {
          "base_uri": "https://localhost:8080/",
          "height": 0
        },
        "id": "5-ZVdcSpJBun",
        "outputId": "094ff48c-d6d5-4fef-ec81-b17f33d952f9"
      },
      "execution_count": 3,
      "outputs": [
        {
          "output_type": "stream",
          "name": "stdout",
          "text": [
            "Drive already mounted at /content/drive; to attempt to forcibly remount, call drive.mount(\"/content/drive\", force_remount=True).\n"
          ]
        }
      ]
    },
    {
      "cell_type": "markdown",
      "source": [
        "**from google.colab import drive**: *This line imports the drive module from the google.colab package.* \\\n",
        "**drive.mount()**: *This line mounts your Google Drive in Google Colab.*"
      ],
      "metadata": {
        "id": "Ktqo0jFtkKQU"
      }
    },
    {
      "cell_type": "code",
      "source": [
        "os.getcwd()"
      ],
      "metadata": {
        "colab": {
          "base_uri": "https://localhost:8080/",
          "height": 36
        },
        "id": "BsTt08dlJCPv",
        "outputId": "cdc2f746-6b97-4d4f-a56c-b07a11b206a8"
      },
      "execution_count": 4,
      "outputs": [
        {
          "output_type": "execute_result",
          "data": {
            "text/plain": [
              "'/content'"
            ],
            "application/vnd.google.colaboratory.intrinsic+json": {
              "type": "string"
            }
          },
          "metadata": {},
          "execution_count": 4
        }
      ]
    },
    {
      "cell_type": "markdown",
      "source": [
        "*The function os.getcwd() is used to get the current working directory (CWD) in Python. The abbreviation \"CWD\" refers to the directory in the file system from which the Python script or the interactive session is currently running.*\n",
        "* **os**: *This is the Python os module, which stands for \"operating system.\" It provides a set of functions that allow you to interact with the operating system, including working with files, directories, and other system-related functionalities.*\n",
        "* **getcwd()**: *This is a function within the os module. When you call os.getcwd(), it returns a string representing the absolute path of the current working directory.*"
      ],
      "metadata": {
        "id": "VhBGayYxknRp"
      }
    },
    {
      "cell_type": "code",
      "source": [
        "i=1\n",
        "os.chdir(os.path.join(os.getcwd(), '/content/drive/MyDrive/Colab Notebooks/Image_Extraction/Data_Folder'))\n",
        "for pdf_file in os.listdir(os.getcwd()):\n",
        "  os.rename(os.path.join(os.getcwd(), pdf_file), 'A{}.pdf'.format(i))\n",
        "  i=i+1"
      ],
      "metadata": {
        "id": "On_thQACJN4Z"
      },
      "execution_count": 5,
      "outputs": []
    },
    {
      "cell_type": "markdown",
      "source": [
        "* **os.chdir**: *This line changes the current working directory to the specified path.*\n",
        "* **for pdf_file in os.listdir(os.getcwd()):**: *This line starts a loop that iterates through the list of files in the current working directory.*\n",
        "* **os.rename(os.path.join(os.getcwd(), pdf_file), 'A{}.pdf'.format(i))**: *Inside the loop, this line renames each PDF file. The os.rename() function is used to rename the file. The os.path.join() function is used to construct the full path of the file in the current working directory. The new name for the PDF file is constructed using the format 'A{}.pdf', where '{}' is replaced with the value of the i variable. This means the PDF files will be renamed to 'A1.pdf', 'A2.pdf', 'A3.pdf', and so on, depending on the value of i.*"
      ],
      "metadata": {
        "id": "IradeHpRlW-g"
      }
    },
    {
      "cell_type": "code",
      "source": [
        "for pdf_file in os.listdir(os.getcwd()):\n",
        "  os.mkdir(os.path.join(os.path.dirname(os.getcwd()),pdf_file.replace('.pdf','')))\n",
        "  src=os.path.join(os.getcwd(),pdf_file)\n",
        "  dest=os.path.join(os.path.join(os.path.dirname(os.getcwd()), pdf_file.replace('.pdf','')))\n",
        "  shutil.copy(src,dest)"
      ],
      "metadata": {
        "id": "08m6rytCJQ-K"
      },
      "execution_count": 6,
      "outputs": []
    },
    {
      "cell_type": "markdown",
      "source": [
        "* **for pdf_file in os.listdir(os.getcwd()):** *This line starts a loop that iterates through the list of files in the current working directory (CWD). The loop will consider all files present in the CWD, assuming they are PDF files.*\n",
        "* **os.mkdir(os.path.join(os.path.dirname(os.getcwd()), pdf_file.replace('.pdf','')))**: *Inside the loop, this line creates a new directory for each PDF file found in the CWD. The directory name is derived from the name of the PDF file but with the '.pdf' extension removed. The os.path.dirname() function extracts the directory name from the full path of the CWD, and the pdf_file.replace('.pdf','') removes the '.pdf' extension from the filename.*\n",
        "* **src=os.path.join(os.getcwd(), pdf_file)**: This line constructs the source path of the PDF file to be copied. It joins the CWD with the filename to get the full path of the PDF file. *italicized text*\n",
        "* **dest=os.path.join(os.path.join(os.path.dirname(os.getcwd()), pdf_file.replace('.pdf','')))**: *This line constructs the destination path for copying the PDF file. It joins the CWD's parent directory (one level up) with the directory name created in step 2. This ensures that the PDF file is copied to the newly created directory.*\n",
        "* **shutil.copy(src, dest)**: *This line copies the PDF file from the source path (src) to the destination path (dest). The shutil.copy() function is used for file copying in Python.*"
      ],
      "metadata": {
        "id": "0h5TUebYn3Kx"
      }
    },
    {
      "cell_type": "markdown",
      "source": [
        "#### Extracting Images from PDF Files"
      ],
      "metadata": {
        "id": "ph6sjx66otQ2"
      }
    },
    {
      "cell_type": "code",
      "source": [
        "os.chdir('/content/drive/MyDrive/Colab Notebooks/Image_Extraction')\n",
        "for each_folder in os.listdir(os.getcwd()):\n",
        "  if each_folder not in ['.ipynb_checkpoints','Data_Folder','Image_Extraction.ipynb','Steps']:\n",
        "    for each_file in os.listdir(os.path.join(os.getcwd(),each_folder)):\n",
        "      #file path you want to extract images from]\n",
        "      file=os.path.join(os.getcwd(), each_folder,each_file)\n",
        "      #open the file\n",
        "      pdf_file=fitz.open(file)\n",
        "      #iterate over PDF pages:\n",
        "      for page_index in range (pdf_file.page_count):\n",
        "        #get the page itself\n",
        "        page=pdf_file[page_index]\n",
        "        image_li=page.get_images()\n",
        "        # printing number of images found in this page\n",
        "        # page index starts from 0 hence adding 1 to its content\n",
        "        if image_li:\n",
        "          print(f\"[+] Found a total of {len(image_li)} images in page {page_index+1}\")\n",
        "        else:\n",
        "          print(f\"[!] No images found on page {page_index+1}\")\n",
        "        for image_index, img in enumerate(page.get_images(), start=1):\n",
        "          #get the XREF of the image\n",
        "          xref=img[0]\n",
        "          #extract the image bytes\n",
        "          base_image=pdf_file.extract_image(xref)\n",
        "          image_bytes=base_image[\"image\"]\n",
        "          #get the image extension\n",
        "          image_ext=base_image[\"ext\"]\n",
        "          #load it to PIL\n",
        "          image=Image.open(io.BytesIO(image_bytes))\n",
        "          # save it to the local disk with filename prefix\n",
        "          filename_prefix = each_file.replace('.pdf', '')\n",
        "          image.save(\n",
        "                        f\"{os.path.join(os.getcwd(), each_folder)}/{filename_prefix}_page{page_index + 1}_{image_index}.{image_ext}\"\n",
        "                    )"
      ],
      "metadata": {
        "colab": {
          "base_uri": "https://localhost:8080/",
          "height": 0
        },
        "id": "XzjzTUVAXChN",
        "outputId": "81a7eddc-c8de-44eb-b361-239244d8e4f5"
      },
      "execution_count": 7,
      "outputs": [
        {
          "output_type": "stream",
          "name": "stdout",
          "text": [
            "[+] Found a total of 1 images in page 1\n",
            "[!] No images found on page 2\n",
            "[!] No images found on page 3\n",
            "[!] No images found on page 4\n",
            "[+] Found a total of 1 images in page 5\n",
            "[+] Found a total of 1 images in page 6\n",
            "[+] Found a total of 2 images in page 7\n",
            "[+] Found a total of 1 images in page 8\n",
            "[!] No images found on page 9\n",
            "[+] Found a total of 1 images in page 10\n",
            "[+] Found a total of 1 images in page 11\n",
            "[+] Found a total of 1 images in page 12\n",
            "[+] Found a total of 1 images in page 13\n",
            "[!] No images found on page 14\n",
            "[+] Found a total of 2 images in page 1\n",
            "[+] Found a total of 1 images in page 2\n",
            "[+] Found a total of 1 images in page 3\n",
            "[+] Found a total of 2 images in page 4\n",
            "[+] Found a total of 1 images in page 5\n",
            "[+] Found a total of 1 images in page 6\n",
            "[+] Found a total of 1 images in page 7\n",
            "[+] Found a total of 1 images in page 8\n",
            "[+] Found a total of 1 images in page 9\n",
            "[+] Found a total of 1 images in page 10\n",
            "[+] Found a total of 2 images in page 11\n",
            "[+] Found a total of 23 images in page 1\n",
            "[!] No images found on page 2\n",
            "[+] Found a total of 1 images in page 3\n",
            "[+] Found a total of 1 images in page 4\n",
            "[!] No images found on page 5\n",
            "[+] Found a total of 1 images in page 6\n",
            "[+] Found a total of 1 images in page 7\n",
            "[+] Found a total of 2 images in page 8\n",
            "[+] Found a total of 2 images in page 9\n",
            "[!] No images found on page 10\n",
            "[+] Found a total of 3 images in page 1\n",
            "[!] No images found on page 2\n",
            "[!] No images found on page 3\n",
            "[+] Found a total of 1 images in page 4\n",
            "[+] Found a total of 3 images in page 5\n",
            "[+] Found a total of 3 images in page 6\n",
            "[+] Found a total of 2 images in page 7\n",
            "[+] Found a total of 1 images in page 8\n",
            "[+] Found a total of 2 images in page 9\n",
            "[+] Found a total of 2 images in page 10\n",
            "[+] Found a total of 1 images in page 11\n",
            "[+] Found a total of 1 images in page 12\n",
            "[+] Found a total of 2 images in page 13\n",
            "[+] Found a total of 1 images in page 14\n",
            "[+] Found a total of 1 images in page 15\n",
            "[+] Found a total of 1 images in page 16\n",
            "[!] No images found on page 17\n",
            "[+] Found a total of 2 images in page 1\n",
            "[+] Found a total of 3 images in page 2\n",
            "[+] Found a total of 2 images in page 3\n",
            "[+] Found a total of 2 images in page 4\n",
            "[+] Found a total of 2 images in page 5\n",
            "[+] Found a total of 2 images in page 6\n",
            "[+] Found a total of 2 images in page 7\n",
            "[+] Found a total of 1 images in page 8\n",
            "[!] No images found on page 9\n",
            "[!] No images found on page 10\n"
          ]
        }
      ]
    },
    {
      "cell_type": "markdown",
      "source": [
        "***Above  code snippet is intended to extract images from PDF files in specific directories and save them to the local disk with appropriate filenames.***\n",
        "\n",
        "* **os.chdir()**: *This code changes the current working dir (CWD) to new dir , which is the directory where the PDF files are located.*\n",
        "* **for each_folder in os.listdir(os.getcwd()):**: *This line starts a loop that iterates through the list of directories/files in the current working directory. It will go through each folder within 'Image_Extraction'. *\n",
        "* **if each_folder not in ['.ipynb_checkpoints','Data_Folder','Image_Extraction.ipynb','Steps']::** *This line checks whether the current item (each_folder) in the loop is a directory and not one of the specified exceptions (folders named '.ipynb_checkpoints', 'Data_Folder', 'Image_Extraction.ipynb', and 'Steps'). This filtering is done to avoid processing unwanted directories.*\n",
        "* **for each_file in os.listdir(os.path.join(os.getcwd(),each_folder))::** *Inside the previous loop, this line starts another loop that iterates through the list of files in each subdirectory (each_folder).*\n",
        "* **file=os.path.join(os.getcwd(), each_folder, each_file):** *This line constructs the full path of the current PDF file being processed.*\n",
        "* **pdf_file=fitz.open(file):** *This line opens the current PDF file using the fitz module (PyMuPDF) and assigns it to the variable pdf_file.*\n",
        "* **for page_index in range(pdf_file.page_count)::** *This line starts a loop that iterates over the pages of the PDF file (page_index starts from 0).*\n",
        "* **page=pdf_file[page_index]:** *This line retrieves the current page of the PDF file using the page_index.*\n",
        "* **image_li=page.get_images():** *This line retrieves a list of images present in the current page of the PDF.*\n",
        "* **if image_li::** *This line checks if any images are found in the current page.*\n",
        "* **for image_index, img in enumerate(page.get_images(), start=1)::** *If images are found in the page, this line starts a loop that iterates through each image found in the page using enumerate(). The image_index variable holds the index of the image within the page (starting from 1).*\n",
        "* **xref=img[0]:** *This line gets the XREF (cross-reference) of the image, which is a unique identifier for the image in the PDF.*\n",
        "* **base_image=pdf_file.extract_image(xref):** *This line extracts the image bytes and other information using the XREF obtained in the previous step.*\n",
        "* **image_bytes=base_image[\"image\"]:** *This line extracts the image bytes from the base_image dictionary.*\n",
        "* **image_ext=base_image[\"ext\"]:** *This line retrieves the image extension (e.g., \"jpg\", \"png\") from the base_image dictionary.*\n",
        "* **image=Image.open(io.BytesIO(image_bytes)):** *This line opens the image using the Python Imaging Library (PIL) from the io.BytesIO(image_bytes) stream.*\n",
        "* **filename_prefix = each_file.replace('.pdf', ''):** *This line creates a filename prefix by removing the '.pdf' extension from the original PDF file name.*\n",
        "* **image.save(f\"{os.path.join(os.getcwd(), each_folder)}/{filename_prefix}_page{page_index + 1}_{image_index}.{image_ext}\")**: *This line saves the image to the local disk with a filename based on the original PDF file, page number, and image index. The image is saved in the same folder as the original PDF file.*"
      ],
      "metadata": {
        "id": "vwPSMx-UonDm"
      }
    },
    {
      "cell_type": "code",
      "source": [
        "import os\n",
        "os.getcwd()"
      ],
      "metadata": {
        "colab": {
          "base_uri": "https://localhost:8080/",
          "height": 36
        },
        "id": "Ro9oYDsWQ5G7",
        "outputId": "9f0f0cfd-99ce-40be-8d42-3e7c83990c21"
      },
      "execution_count": 8,
      "outputs": [
        {
          "output_type": "execute_result",
          "data": {
            "text/plain": [
              "'/content/drive/MyDrive/Colab Notebooks/Image_Extraction'"
            ],
            "application/vnd.google.colaboratory.intrinsic+json": {
              "type": "string"
            }
          },
          "metadata": {},
          "execution_count": 8
        }
      ]
    },
    {
      "cell_type": "code",
      "source": [
        "os.listdir(os.getcwd())"
      ],
      "metadata": {
        "colab": {
          "base_uri": "https://localhost:8080/",
          "height": 0
        },
        "id": "mmtdDVnCRFDF",
        "outputId": "74a1d25a-3b18-4caf-de1f-6f26a169ba2c"
      },
      "execution_count": 9,
      "outputs": [
        {
          "output_type": "execute_result",
          "data": {
            "text/plain": [
              "['Data_Folder', 'A1', 'A2', 'A3', 'A4', 'A5']"
            ]
          },
          "metadata": {},
          "execution_count": 9
        }
      ]
    }
  ]
}